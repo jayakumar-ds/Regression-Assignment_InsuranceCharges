{
 "cells": [
  {
   "cell_type": "code",
   "execution_count": 1,
   "id": "62e9239a-4c2c-47f0-aedc-1b287dbe450b",
   "metadata": {},
   "outputs": [],
   "source": [
    "import pandas as pd\n",
    "import matplotlib.pyplot as plt\n",
    "import warnings\n",
    "warnings.filterwarnings('ignore')"
   ]
  },
  {
   "cell_type": "code",
   "execution_count": 3,
   "id": "f38d8261-ac34-4904-be78-681bed50041d",
   "metadata": {},
   "outputs": [],
   "source": [
    "#Read and store the csv file to \"data\" variable\n",
    "data = pd.read_csv(\"insurance_pre.csv\")"
   ]
  },
  {
   "cell_type": "code",
   "execution_count": 9,
   "id": "89829f7f-17af-46c4-afd2-6f567f302fb4",
   "metadata": {},
   "outputs": [
    {
     "data": {
      "text/html": [
       "<div>\n",
       "<style scoped>\n",
       "    .dataframe tbody tr th:only-of-type {\n",
       "        vertical-align: middle;\n",
       "    }\n",
       "\n",
       "    .dataframe tbody tr th {\n",
       "        vertical-align: top;\n",
       "    }\n",
       "\n",
       "    .dataframe thead th {\n",
       "        text-align: right;\n",
       "    }\n",
       "</style>\n",
       "<table border=\"1\" class=\"dataframe\">\n",
       "  <thead>\n",
       "    <tr style=\"text-align: right;\">\n",
       "      <th></th>\n",
       "      <th>age</th>\n",
       "      <th>sex</th>\n",
       "      <th>bmi</th>\n",
       "      <th>children</th>\n",
       "      <th>smoker</th>\n",
       "      <th>charges</th>\n",
       "    </tr>\n",
       "  </thead>\n",
       "  <tbody>\n",
       "    <tr>\n",
       "      <th>0</th>\n",
       "      <td>19</td>\n",
       "      <td>female</td>\n",
       "      <td>27.900</td>\n",
       "      <td>0</td>\n",
       "      <td>yes</td>\n",
       "      <td>16884.92400</td>\n",
       "    </tr>\n",
       "    <tr>\n",
       "      <th>1</th>\n",
       "      <td>18</td>\n",
       "      <td>male</td>\n",
       "      <td>33.770</td>\n",
       "      <td>1</td>\n",
       "      <td>no</td>\n",
       "      <td>1725.55230</td>\n",
       "    </tr>\n",
       "    <tr>\n",
       "      <th>2</th>\n",
       "      <td>28</td>\n",
       "      <td>male</td>\n",
       "      <td>33.000</td>\n",
       "      <td>3</td>\n",
       "      <td>no</td>\n",
       "      <td>4449.46200</td>\n",
       "    </tr>\n",
       "    <tr>\n",
       "      <th>3</th>\n",
       "      <td>33</td>\n",
       "      <td>male</td>\n",
       "      <td>22.705</td>\n",
       "      <td>0</td>\n",
       "      <td>no</td>\n",
       "      <td>21984.47061</td>\n",
       "    </tr>\n",
       "    <tr>\n",
       "      <th>4</th>\n",
       "      <td>32</td>\n",
       "      <td>male</td>\n",
       "      <td>28.880</td>\n",
       "      <td>0</td>\n",
       "      <td>no</td>\n",
       "      <td>3866.85520</td>\n",
       "    </tr>\n",
       "  </tbody>\n",
       "</table>\n",
       "</div>"
      ],
      "text/plain": [
       "   age     sex     bmi  children smoker      charges\n",
       "0   19  female  27.900         0    yes  16884.92400\n",
       "1   18    male  33.770         1     no   1725.55230\n",
       "2   28    male  33.000         3     no   4449.46200\n",
       "3   33    male  22.705         0     no  21984.47061\n",
       "4   32    male  28.880         0     no   3866.85520"
      ]
     },
     "execution_count": 9,
     "metadata": {},
     "output_type": "execute_result"
    }
   ],
   "source": [
    "#print first 5 rows of the data\n",
    "data.head(5)"
   ]
  },
  {
   "cell_type": "markdown",
   "id": "d3585f16-326a-4def-99f8-699cd2686efe",
   "metadata": {},
   "source": [
    "* **Identifing the problem statement:**\n",
    "  - Stage 1:\n",
    "    * We have Input data's are Numbers - so Domain will be Machine Learning\n",
    "  - Stage 2:\n",
    "    * Supervised Learning- It's a Clear requirnment and we have IP/OP data.\n",
    "  - stage 3:\n",
    "    * Numerical values(Target features) - so we can go with Regression"
   ]
  },
  {
   "cell_type": "markdown",
   "id": "4df9415f-f93d-436b-9fe7-99769e482de1",
   "metadata": {},
   "source": [
    "* **Basic info about the dataSet:**\n",
    "  * Total Row : 1388\n",
    "  * Total Columns : 6\n",
    "  * Dataset contains both numerical and categorical values \n",
    "  * Column names : AGE, SEX, BMI, CHILDREN, SMOKER, CHARGES(Traget variable)\n",
    "  * age,children are Integer type.\n",
    "  * bmi and charges are Float type.\n",
    "  * sex and smoker are in Object type.\n",
    "  * There is no null values in the dataset.\n",
    "  * Requirnment is clear."
   ]
  },
  {
   "cell_type": "code",
   "execution_count": 7,
   "id": "7374e635-47c1-446a-8fb2-b03e03a80c61",
   "metadata": {},
   "outputs": [
    {
     "data": {
      "text/plain": [
       "(1338, 6)"
      ]
     },
     "execution_count": 7,
     "metadata": {},
     "output_type": "execute_result"
    }
   ],
   "source": [
    "data.shape"
   ]
  },
  {
   "cell_type": "code",
   "execution_count": 24,
   "id": "b0fb1be1-4f6d-441c-a56d-a8305e69f648",
   "metadata": {},
   "outputs": [
    {
     "data": {
      "text/plain": [
       "age           int64\n",
       "sex          object\n",
       "bmi         float64\n",
       "children      int64\n",
       "smoker       object\n",
       "charges     float64\n",
       "dtype: object"
      ]
     },
     "execution_count": 24,
     "metadata": {},
     "output_type": "execute_result"
    }
   ],
   "source": [
    "data.dtypes"
   ]
  },
  {
   "cell_type": "code",
   "execution_count": 32,
   "id": "bfa6b294-1fd5-4591-9e6c-7754a8266b5e",
   "metadata": {},
   "outputs": [
    {
     "name": "stdout",
     "output_type": "stream",
     "text": [
      "18\n",
      "64\n"
     ]
    }
   ],
   "source": [
    "print(data['age'].min())\n",
    "print(data['age'].max())"
   ]
  },
  {
   "cell_type": "code",
   "execution_count": 34,
   "id": "23e29e8b-8ebf-4f39-9faa-8b424ac3efd2",
   "metadata": {},
   "outputs": [
    {
     "data": {
      "text/plain": [
       "sex\n",
       "male      676\n",
       "female    662\n",
       "Name: count, dtype: int64"
      ]
     },
     "execution_count": 34,
     "metadata": {},
     "output_type": "execute_result"
    }
   ],
   "source": [
    "data['sex'].value_counts()"
   ]
  },
  {
   "cell_type": "code",
   "execution_count": 52,
   "id": "fb917b65-cf75-48c0-967d-3dd33258c31f",
   "metadata": {},
   "outputs": [
    {
     "data": {
      "text/plain": [
       "smoker\n",
       "no     1064\n",
       "yes     274\n",
       "Name: count, dtype: int64"
      ]
     },
     "execution_count": 52,
     "metadata": {},
     "output_type": "execute_result"
    }
   ],
   "source": [
    "data['smoker'].value_counts()"
   ]
  },
  {
   "cell_type": "markdown",
   "id": "f8f51e46-eea6-409d-b59a-913ba8ad64ff",
   "metadata": {},
   "source": [
    "### **Pre-Processing Method**"
   ]
  },
  {
   "cell_type": "code",
   "execution_count": 78,
   "id": "2d541d37-4a26-48a8-9516-2d747b67b63d",
   "metadata": {},
   "outputs": [],
   "source": [
    "df = pd.get_dummies(data,drop_first=True, dtype =int)"
   ]
  },
  {
   "cell_type": "code",
   "execution_count": 80,
   "id": "c936831e-aea2-423a-82a8-554fa7bbee6b",
   "metadata": {},
   "outputs": [
    {
     "data": {
      "text/html": [
       "<div>\n",
       "<style scoped>\n",
       "    .dataframe tbody tr th:only-of-type {\n",
       "        vertical-align: middle;\n",
       "    }\n",
       "\n",
       "    .dataframe tbody tr th {\n",
       "        vertical-align: top;\n",
       "    }\n",
       "\n",
       "    .dataframe thead th {\n",
       "        text-align: right;\n",
       "    }\n",
       "</style>\n",
       "<table border=\"1\" class=\"dataframe\">\n",
       "  <thead>\n",
       "    <tr style=\"text-align: right;\">\n",
       "      <th></th>\n",
       "      <th>age</th>\n",
       "      <th>bmi</th>\n",
       "      <th>children</th>\n",
       "      <th>charges</th>\n",
       "      <th>sex_male</th>\n",
       "      <th>smoker_yes</th>\n",
       "    </tr>\n",
       "  </thead>\n",
       "  <tbody>\n",
       "    <tr>\n",
       "      <th>0</th>\n",
       "      <td>19</td>\n",
       "      <td>27.900</td>\n",
       "      <td>0</td>\n",
       "      <td>16884.92400</td>\n",
       "      <td>0</td>\n",
       "      <td>1</td>\n",
       "    </tr>\n",
       "    <tr>\n",
       "      <th>1</th>\n",
       "      <td>18</td>\n",
       "      <td>33.770</td>\n",
       "      <td>1</td>\n",
       "      <td>1725.55230</td>\n",
       "      <td>1</td>\n",
       "      <td>0</td>\n",
       "    </tr>\n",
       "    <tr>\n",
       "      <th>2</th>\n",
       "      <td>28</td>\n",
       "      <td>33.000</td>\n",
       "      <td>3</td>\n",
       "      <td>4449.46200</td>\n",
       "      <td>1</td>\n",
       "      <td>0</td>\n",
       "    </tr>\n",
       "    <tr>\n",
       "      <th>3</th>\n",
       "      <td>33</td>\n",
       "      <td>22.705</td>\n",
       "      <td>0</td>\n",
       "      <td>21984.47061</td>\n",
       "      <td>1</td>\n",
       "      <td>0</td>\n",
       "    </tr>\n",
       "    <tr>\n",
       "      <th>4</th>\n",
       "      <td>32</td>\n",
       "      <td>28.880</td>\n",
       "      <td>0</td>\n",
       "      <td>3866.85520</td>\n",
       "      <td>1</td>\n",
       "      <td>0</td>\n",
       "    </tr>\n",
       "  </tbody>\n",
       "</table>\n",
       "</div>"
      ],
      "text/plain": [
       "   age     bmi  children      charges  sex_male  smoker_yes\n",
       "0   19  27.900         0  16884.92400         0           1\n",
       "1   18  33.770         1   1725.55230         1           0\n",
       "2   28  33.000         3   4449.46200         1           0\n",
       "3   33  22.705         0  21984.47061         1           0\n",
       "4   32  28.880         0   3866.85520         1           0"
      ]
     },
     "execution_count": 80,
     "metadata": {},
     "output_type": "execute_result"
    }
   ],
   "source": [
    "df.head()"
   ]
  },
  {
   "cell_type": "markdown",
   "id": "d90b5ca1-3589-4c6e-a63a-28255c22bab1",
   "metadata": {},
   "source": [
    "**Spliting the Independent variable and Dependent variable**"
   ]
  },
  {
   "cell_type": "code",
   "execution_count": 91,
   "id": "5b277bc0-86c7-4b72-b2f4-0c52fa726208",
   "metadata": {},
   "outputs": [
    {
     "data": {
      "text/plain": [
       "Index(['age', 'bmi', 'children', 'charges', 'sex_male', 'smoker_yes'], dtype='object')"
      ]
     },
     "execution_count": 91,
     "metadata": {},
     "output_type": "execute_result"
    }
   ],
   "source": [
    "df.columns"
   ]
  },
  {
   "cell_type": "code",
   "execution_count": 93,
   "id": "785d876c-2bda-40f2-8a17-04985a3cea66",
   "metadata": {},
   "outputs": [],
   "source": [
    "independent = df[['age', 'bmi', 'children', 'sex_male', 'smoker_yes']]\n",
    "dependent = df[['charges']]"
   ]
  },
  {
   "cell_type": "code",
   "execution_count": 99,
   "id": "04be1879-2c67-4b35-884f-1e737077d538",
   "metadata": {},
   "outputs": [],
   "source": [
    "from sklearn.model_selection import train_test_split\n",
    "X_train,X_test,y_train,y_test = train_test_split(independent,dependent,test_size=0.30,random_state=32)"
   ]
  },
  {
   "cell_type": "code",
   "execution_count": 113,
   "id": "1a12a0cf-bd61-4156-b676-9f53e9cfb4ed",
   "metadata": {},
   "outputs": [],
   "source": [
    "from sklearn.preprocessing import StandardScaler\n",
    "sc = StandardScaler()\n",
    "X_train = sc.fit_transform(X_train)\n",
    "X_test = sc.transform(X_test)"
   ]
  },
  {
   "cell_type": "code",
   "execution_count": 125,
   "id": "125fb5c8-19a2-4f63-8806-af0a88501207",
   "metadata": {},
   "outputs": [
    {
     "data": {
      "text/plain": [
       "array([[-1.45539989,  0.61957641, -0.91671781,  0.98304962, -0.51465024],\n",
       "       [-1.52772942,  0.08852876, -0.91671781, -1.01724265, -0.51465024],\n",
       "       [ 1.7994288 ,  0.87454423, -0.91671781, -1.01724265, -0.51465024],\n",
       "       ...,\n",
       "       [ 1.07613353, -1.06369847, -0.91671781,  0.98304962, -0.51465024],\n",
       "       [-1.52772942,  0.21682468, -0.91671781, -1.01724265, -0.51465024],\n",
       "       [-0.73210463, -1.43397022, -0.09561937, -1.01724265,  1.94306722]])"
      ]
     },
     "execution_count": 125,
     "metadata": {},
     "output_type": "execute_result"
    }
   ],
   "source": [
    "X_train"
   ]
  },
  {
   "cell_type": "markdown",
   "id": "cc7db026-80b1-4d1e-9763-804fcb9324fc",
   "metadata": {},
   "source": [
    "## **Model 1 - MLR**"
   ]
  },
  {
   "cell_type": "code",
   "execution_count": 115,
   "id": "08bf6ed8-f2a7-49d9-a56c-b2c1d7679357",
   "metadata": {},
   "outputs": [
    {
     "data": {
      "text/html": [
       "<style>#sk-container-id-2 {\n",
       "  /* Definition of color scheme common for light and dark mode */\n",
       "  --sklearn-color-text: black;\n",
       "  --sklearn-color-line: gray;\n",
       "  /* Definition of color scheme for unfitted estimators */\n",
       "  --sklearn-color-unfitted-level-0: #fff5e6;\n",
       "  --sklearn-color-unfitted-level-1: #f6e4d2;\n",
       "  --sklearn-color-unfitted-level-2: #ffe0b3;\n",
       "  --sklearn-color-unfitted-level-3: chocolate;\n",
       "  /* Definition of color scheme for fitted estimators */\n",
       "  --sklearn-color-fitted-level-0: #f0f8ff;\n",
       "  --sklearn-color-fitted-level-1: #d4ebff;\n",
       "  --sklearn-color-fitted-level-2: #b3dbfd;\n",
       "  --sklearn-color-fitted-level-3: cornflowerblue;\n",
       "\n",
       "  /* Specific color for light theme */\n",
       "  --sklearn-color-text-on-default-background: var(--sg-text-color, var(--theme-code-foreground, var(--jp-content-font-color1, black)));\n",
       "  --sklearn-color-background: var(--sg-background-color, var(--theme-background, var(--jp-layout-color0, white)));\n",
       "  --sklearn-color-border-box: var(--sg-text-color, var(--theme-code-foreground, var(--jp-content-font-color1, black)));\n",
       "  --sklearn-color-icon: #696969;\n",
       "\n",
       "  @media (prefers-color-scheme: dark) {\n",
       "    /* Redefinition of color scheme for dark theme */\n",
       "    --sklearn-color-text-on-default-background: var(--sg-text-color, var(--theme-code-foreground, var(--jp-content-font-color1, white)));\n",
       "    --sklearn-color-background: var(--sg-background-color, var(--theme-background, var(--jp-layout-color0, #111)));\n",
       "    --sklearn-color-border-box: var(--sg-text-color, var(--theme-code-foreground, var(--jp-content-font-color1, white)));\n",
       "    --sklearn-color-icon: #878787;\n",
       "  }\n",
       "}\n",
       "\n",
       "#sk-container-id-2 {\n",
       "  color: var(--sklearn-color-text);\n",
       "}\n",
       "\n",
       "#sk-container-id-2 pre {\n",
       "  padding: 0;\n",
       "}\n",
       "\n",
       "#sk-container-id-2 input.sk-hidden--visually {\n",
       "  border: 0;\n",
       "  clip: rect(1px 1px 1px 1px);\n",
       "  clip: rect(1px, 1px, 1px, 1px);\n",
       "  height: 1px;\n",
       "  margin: -1px;\n",
       "  overflow: hidden;\n",
       "  padding: 0;\n",
       "  position: absolute;\n",
       "  width: 1px;\n",
       "}\n",
       "\n",
       "#sk-container-id-2 div.sk-dashed-wrapped {\n",
       "  border: 1px dashed var(--sklearn-color-line);\n",
       "  margin: 0 0.4em 0.5em 0.4em;\n",
       "  box-sizing: border-box;\n",
       "  padding-bottom: 0.4em;\n",
       "  background-color: var(--sklearn-color-background);\n",
       "}\n",
       "\n",
       "#sk-container-id-2 div.sk-container {\n",
       "  /* jupyter's `normalize.less` sets `[hidden] { display: none; }`\n",
       "     but bootstrap.min.css set `[hidden] { display: none !important; }`\n",
       "     so we also need the `!important` here to be able to override the\n",
       "     default hidden behavior on the sphinx rendered scikit-learn.org.\n",
       "     See: https://github.com/scikit-learn/scikit-learn/issues/21755 */\n",
       "  display: inline-block !important;\n",
       "  position: relative;\n",
       "}\n",
       "\n",
       "#sk-container-id-2 div.sk-text-repr-fallback {\n",
       "  display: none;\n",
       "}\n",
       "\n",
       "div.sk-parallel-item,\n",
       "div.sk-serial,\n",
       "div.sk-item {\n",
       "  /* draw centered vertical line to link estimators */\n",
       "  background-image: linear-gradient(var(--sklearn-color-text-on-default-background), var(--sklearn-color-text-on-default-background));\n",
       "  background-size: 2px 100%;\n",
       "  background-repeat: no-repeat;\n",
       "  background-position: center center;\n",
       "}\n",
       "\n",
       "/* Parallel-specific style estimator block */\n",
       "\n",
       "#sk-container-id-2 div.sk-parallel-item::after {\n",
       "  content: \"\";\n",
       "  width: 100%;\n",
       "  border-bottom: 2px solid var(--sklearn-color-text-on-default-background);\n",
       "  flex-grow: 1;\n",
       "}\n",
       "\n",
       "#sk-container-id-2 div.sk-parallel {\n",
       "  display: flex;\n",
       "  align-items: stretch;\n",
       "  justify-content: center;\n",
       "  background-color: var(--sklearn-color-background);\n",
       "  position: relative;\n",
       "}\n",
       "\n",
       "#sk-container-id-2 div.sk-parallel-item {\n",
       "  display: flex;\n",
       "  flex-direction: column;\n",
       "}\n",
       "\n",
       "#sk-container-id-2 div.sk-parallel-item:first-child::after {\n",
       "  align-self: flex-end;\n",
       "  width: 50%;\n",
       "}\n",
       "\n",
       "#sk-container-id-2 div.sk-parallel-item:last-child::after {\n",
       "  align-self: flex-start;\n",
       "  width: 50%;\n",
       "}\n",
       "\n",
       "#sk-container-id-2 div.sk-parallel-item:only-child::after {\n",
       "  width: 0;\n",
       "}\n",
       "\n",
       "/* Serial-specific style estimator block */\n",
       "\n",
       "#sk-container-id-2 div.sk-serial {\n",
       "  display: flex;\n",
       "  flex-direction: column;\n",
       "  align-items: center;\n",
       "  background-color: var(--sklearn-color-background);\n",
       "  padding-right: 1em;\n",
       "  padding-left: 1em;\n",
       "}\n",
       "\n",
       "\n",
       "/* Toggleable style: style used for estimator/Pipeline/ColumnTransformer box that is\n",
       "clickable and can be expanded/collapsed.\n",
       "- Pipeline and ColumnTransformer use this feature and define the default style\n",
       "- Estimators will overwrite some part of the style using the `sk-estimator` class\n",
       "*/\n",
       "\n",
       "/* Pipeline and ColumnTransformer style (default) */\n",
       "\n",
       "#sk-container-id-2 div.sk-toggleable {\n",
       "  /* Default theme specific background. It is overwritten whether we have a\n",
       "  specific estimator or a Pipeline/ColumnTransformer */\n",
       "  background-color: var(--sklearn-color-background);\n",
       "}\n",
       "\n",
       "/* Toggleable label */\n",
       "#sk-container-id-2 label.sk-toggleable__label {\n",
       "  cursor: pointer;\n",
       "  display: block;\n",
       "  width: 100%;\n",
       "  margin-bottom: 0;\n",
       "  padding: 0.5em;\n",
       "  box-sizing: border-box;\n",
       "  text-align: center;\n",
       "}\n",
       "\n",
       "#sk-container-id-2 label.sk-toggleable__label-arrow:before {\n",
       "  /* Arrow on the left of the label */\n",
       "  content: \"▸\";\n",
       "  float: left;\n",
       "  margin-right: 0.25em;\n",
       "  color: var(--sklearn-color-icon);\n",
       "}\n",
       "\n",
       "#sk-container-id-2 label.sk-toggleable__label-arrow:hover:before {\n",
       "  color: var(--sklearn-color-text);\n",
       "}\n",
       "\n",
       "/* Toggleable content - dropdown */\n",
       "\n",
       "#sk-container-id-2 div.sk-toggleable__content {\n",
       "  max-height: 0;\n",
       "  max-width: 0;\n",
       "  overflow: hidden;\n",
       "  text-align: left;\n",
       "  /* unfitted */\n",
       "  background-color: var(--sklearn-color-unfitted-level-0);\n",
       "}\n",
       "\n",
       "#sk-container-id-2 div.sk-toggleable__content.fitted {\n",
       "  /* fitted */\n",
       "  background-color: var(--sklearn-color-fitted-level-0);\n",
       "}\n",
       "\n",
       "#sk-container-id-2 div.sk-toggleable__content pre {\n",
       "  margin: 0.2em;\n",
       "  border-radius: 0.25em;\n",
       "  color: var(--sklearn-color-text);\n",
       "  /* unfitted */\n",
       "  background-color: var(--sklearn-color-unfitted-level-0);\n",
       "}\n",
       "\n",
       "#sk-container-id-2 div.sk-toggleable__content.fitted pre {\n",
       "  /* unfitted */\n",
       "  background-color: var(--sklearn-color-fitted-level-0);\n",
       "}\n",
       "\n",
       "#sk-container-id-2 input.sk-toggleable__control:checked~div.sk-toggleable__content {\n",
       "  /* Expand drop-down */\n",
       "  max-height: 200px;\n",
       "  max-width: 100%;\n",
       "  overflow: auto;\n",
       "}\n",
       "\n",
       "#sk-container-id-2 input.sk-toggleable__control:checked~label.sk-toggleable__label-arrow:before {\n",
       "  content: \"▾\";\n",
       "}\n",
       "\n",
       "/* Pipeline/ColumnTransformer-specific style */\n",
       "\n",
       "#sk-container-id-2 div.sk-label input.sk-toggleable__control:checked~label.sk-toggleable__label {\n",
       "  color: var(--sklearn-color-text);\n",
       "  background-color: var(--sklearn-color-unfitted-level-2);\n",
       "}\n",
       "\n",
       "#sk-container-id-2 div.sk-label.fitted input.sk-toggleable__control:checked~label.sk-toggleable__label {\n",
       "  background-color: var(--sklearn-color-fitted-level-2);\n",
       "}\n",
       "\n",
       "/* Estimator-specific style */\n",
       "\n",
       "/* Colorize estimator box */\n",
       "#sk-container-id-2 div.sk-estimator input.sk-toggleable__control:checked~label.sk-toggleable__label {\n",
       "  /* unfitted */\n",
       "  background-color: var(--sklearn-color-unfitted-level-2);\n",
       "}\n",
       "\n",
       "#sk-container-id-2 div.sk-estimator.fitted input.sk-toggleable__control:checked~label.sk-toggleable__label {\n",
       "  /* fitted */\n",
       "  background-color: var(--sklearn-color-fitted-level-2);\n",
       "}\n",
       "\n",
       "#sk-container-id-2 div.sk-label label.sk-toggleable__label,\n",
       "#sk-container-id-2 div.sk-label label {\n",
       "  /* The background is the default theme color */\n",
       "  color: var(--sklearn-color-text-on-default-background);\n",
       "}\n",
       "\n",
       "/* On hover, darken the color of the background */\n",
       "#sk-container-id-2 div.sk-label:hover label.sk-toggleable__label {\n",
       "  color: var(--sklearn-color-text);\n",
       "  background-color: var(--sklearn-color-unfitted-level-2);\n",
       "}\n",
       "\n",
       "/* Label box, darken color on hover, fitted */\n",
       "#sk-container-id-2 div.sk-label.fitted:hover label.sk-toggleable__label.fitted {\n",
       "  color: var(--sklearn-color-text);\n",
       "  background-color: var(--sklearn-color-fitted-level-2);\n",
       "}\n",
       "\n",
       "/* Estimator label */\n",
       "\n",
       "#sk-container-id-2 div.sk-label label {\n",
       "  font-family: monospace;\n",
       "  font-weight: bold;\n",
       "  display: inline-block;\n",
       "  line-height: 1.2em;\n",
       "}\n",
       "\n",
       "#sk-container-id-2 div.sk-label-container {\n",
       "  text-align: center;\n",
       "}\n",
       "\n",
       "/* Estimator-specific */\n",
       "#sk-container-id-2 div.sk-estimator {\n",
       "  font-family: monospace;\n",
       "  border: 1px dotted var(--sklearn-color-border-box);\n",
       "  border-radius: 0.25em;\n",
       "  box-sizing: border-box;\n",
       "  margin-bottom: 0.5em;\n",
       "  /* unfitted */\n",
       "  background-color: var(--sklearn-color-unfitted-level-0);\n",
       "}\n",
       "\n",
       "#sk-container-id-2 div.sk-estimator.fitted {\n",
       "  /* fitted */\n",
       "  background-color: var(--sklearn-color-fitted-level-0);\n",
       "}\n",
       "\n",
       "/* on hover */\n",
       "#sk-container-id-2 div.sk-estimator:hover {\n",
       "  /* unfitted */\n",
       "  background-color: var(--sklearn-color-unfitted-level-2);\n",
       "}\n",
       "\n",
       "#sk-container-id-2 div.sk-estimator.fitted:hover {\n",
       "  /* fitted */\n",
       "  background-color: var(--sklearn-color-fitted-level-2);\n",
       "}\n",
       "\n",
       "/* Specification for estimator info (e.g. \"i\" and \"?\") */\n",
       "\n",
       "/* Common style for \"i\" and \"?\" */\n",
       "\n",
       ".sk-estimator-doc-link,\n",
       "a:link.sk-estimator-doc-link,\n",
       "a:visited.sk-estimator-doc-link {\n",
       "  float: right;\n",
       "  font-size: smaller;\n",
       "  line-height: 1em;\n",
       "  font-family: monospace;\n",
       "  background-color: var(--sklearn-color-background);\n",
       "  border-radius: 1em;\n",
       "  height: 1em;\n",
       "  width: 1em;\n",
       "  text-decoration: none !important;\n",
       "  margin-left: 1ex;\n",
       "  /* unfitted */\n",
       "  border: var(--sklearn-color-unfitted-level-1) 1pt solid;\n",
       "  color: var(--sklearn-color-unfitted-level-1);\n",
       "}\n",
       "\n",
       ".sk-estimator-doc-link.fitted,\n",
       "a:link.sk-estimator-doc-link.fitted,\n",
       "a:visited.sk-estimator-doc-link.fitted {\n",
       "  /* fitted */\n",
       "  border: var(--sklearn-color-fitted-level-1) 1pt solid;\n",
       "  color: var(--sklearn-color-fitted-level-1);\n",
       "}\n",
       "\n",
       "/* On hover */\n",
       "div.sk-estimator:hover .sk-estimator-doc-link:hover,\n",
       ".sk-estimator-doc-link:hover,\n",
       "div.sk-label-container:hover .sk-estimator-doc-link:hover,\n",
       ".sk-estimator-doc-link:hover {\n",
       "  /* unfitted */\n",
       "  background-color: var(--sklearn-color-unfitted-level-3);\n",
       "  color: var(--sklearn-color-background);\n",
       "  text-decoration: none;\n",
       "}\n",
       "\n",
       "div.sk-estimator.fitted:hover .sk-estimator-doc-link.fitted:hover,\n",
       ".sk-estimator-doc-link.fitted:hover,\n",
       "div.sk-label-container:hover .sk-estimator-doc-link.fitted:hover,\n",
       ".sk-estimator-doc-link.fitted:hover {\n",
       "  /* fitted */\n",
       "  background-color: var(--sklearn-color-fitted-level-3);\n",
       "  color: var(--sklearn-color-background);\n",
       "  text-decoration: none;\n",
       "}\n",
       "\n",
       "/* Span, style for the box shown on hovering the info icon */\n",
       ".sk-estimator-doc-link span {\n",
       "  display: none;\n",
       "  z-index: 9999;\n",
       "  position: relative;\n",
       "  font-weight: normal;\n",
       "  right: .2ex;\n",
       "  padding: .5ex;\n",
       "  margin: .5ex;\n",
       "  width: min-content;\n",
       "  min-width: 20ex;\n",
       "  max-width: 50ex;\n",
       "  color: var(--sklearn-color-text);\n",
       "  box-shadow: 2pt 2pt 4pt #999;\n",
       "  /* unfitted */\n",
       "  background: var(--sklearn-color-unfitted-level-0);\n",
       "  border: .5pt solid var(--sklearn-color-unfitted-level-3);\n",
       "}\n",
       "\n",
       ".sk-estimator-doc-link.fitted span {\n",
       "  /* fitted */\n",
       "  background: var(--sklearn-color-fitted-level-0);\n",
       "  border: var(--sklearn-color-fitted-level-3);\n",
       "}\n",
       "\n",
       ".sk-estimator-doc-link:hover span {\n",
       "  display: block;\n",
       "}\n",
       "\n",
       "/* \"?\"-specific style due to the `<a>` HTML tag */\n",
       "\n",
       "#sk-container-id-2 a.estimator_doc_link {\n",
       "  float: right;\n",
       "  font-size: 1rem;\n",
       "  line-height: 1em;\n",
       "  font-family: monospace;\n",
       "  background-color: var(--sklearn-color-background);\n",
       "  border-radius: 1rem;\n",
       "  height: 1rem;\n",
       "  width: 1rem;\n",
       "  text-decoration: none;\n",
       "  /* unfitted */\n",
       "  color: var(--sklearn-color-unfitted-level-1);\n",
       "  border: var(--sklearn-color-unfitted-level-1) 1pt solid;\n",
       "}\n",
       "\n",
       "#sk-container-id-2 a.estimator_doc_link.fitted {\n",
       "  /* fitted */\n",
       "  border: var(--sklearn-color-fitted-level-1) 1pt solid;\n",
       "  color: var(--sklearn-color-fitted-level-1);\n",
       "}\n",
       "\n",
       "/* On hover */\n",
       "#sk-container-id-2 a.estimator_doc_link:hover {\n",
       "  /* unfitted */\n",
       "  background-color: var(--sklearn-color-unfitted-level-3);\n",
       "  color: var(--sklearn-color-background);\n",
       "  text-decoration: none;\n",
       "}\n",
       "\n",
       "#sk-container-id-2 a.estimator_doc_link.fitted:hover {\n",
       "  /* fitted */\n",
       "  background-color: var(--sklearn-color-fitted-level-3);\n",
       "}\n",
       "</style><div id=\"sk-container-id-2\" class=\"sk-top-container\"><div class=\"sk-text-repr-fallback\"><pre>LinearRegression()</pre><b>In a Jupyter environment, please rerun this cell to show the HTML representation or trust the notebook. <br />On GitHub, the HTML representation is unable to render, please try loading this page with nbviewer.org.</b></div><div class=\"sk-container\" hidden><div class=\"sk-item\"><div class=\"sk-estimator fitted sk-toggleable\"><input class=\"sk-toggleable__control sk-hidden--visually\" id=\"sk-estimator-id-2\" type=\"checkbox\" checked><label for=\"sk-estimator-id-2\" class=\"sk-toggleable__label fitted sk-toggleable__label-arrow fitted\">&nbsp;&nbsp;LinearRegression<a class=\"sk-estimator-doc-link fitted\" rel=\"noreferrer\" target=\"_blank\" href=\"https://scikit-learn.org/1.4/modules/generated/sklearn.linear_model.LinearRegression.html\">?<span>Documentation for LinearRegression</span></a><span class=\"sk-estimator-doc-link fitted\">i<span>Fitted</span></span></label><div class=\"sk-toggleable__content fitted\"><pre>LinearRegression()</pre></div> </div></div></div></div>"
      ],
      "text/plain": [
       "LinearRegression()"
      ]
     },
     "execution_count": 115,
     "metadata": {},
     "output_type": "execute_result"
    }
   ],
   "source": [
    "from sklearn.linear_model import LinearRegression\n",
    "regressor = LinearRegression()\n",
    "regressor.fit(X_train,y_train)"
   ]
  },
  {
   "cell_type": "code",
   "execution_count": 117,
   "id": "c7df8c88-3296-47e6-a7e8-42217f670c7f",
   "metadata": {},
   "outputs": [
    {
     "data": {
      "text/plain": [
       "array([[3543.52178492, 2114.05811025,  606.22568166,  -73.92937558,\n",
       "        9590.5194808 ]])"
      ]
     },
     "execution_count": 117,
     "metadata": {},
     "output_type": "execute_result"
    }
   ],
   "source": [
    "wt = regressor.coef_\n",
    "wt"
   ]
  },
  {
   "cell_type": "code",
   "execution_count": 119,
   "id": "e46f2f22-8743-408c-ae83-2c1dbed1f00e",
   "metadata": {},
   "outputs": [
    {
     "data": {
      "text/plain": [
       "array([13362.05764083])"
      ]
     },
     "execution_count": 119,
     "metadata": {},
     "output_type": "execute_result"
    }
   ],
   "source": [
    "bias = regressor.intercept_\n",
    "bias"
   ]
  },
  {
   "cell_type": "code",
   "execution_count": 121,
   "id": "156380fc-7a52-425f-abbb-b7df7847c8fb",
   "metadata": {},
   "outputs": [],
   "source": [
    "# Predict the test data:\n",
    "y_pred = regressor.predict(X_test)"
   ]
  },
  {
   "cell_type": "code",
   "execution_count": 123,
   "id": "d17b3568-d1ab-478f-86b3-a8ef8db2b930",
   "metadata": {},
   "outputs": [
    {
     "data": {
      "text/plain": [
       "0.7723923235599369"
      ]
     },
     "execution_count": 123,
     "metadata": {},
     "output_type": "execute_result"
    }
   ],
   "source": [
    "from sklearn.metrics import r2_score\n",
    "r2score = r2_score(y_test,y_pred)\n",
    "r2score"
   ]
  },
  {
   "cell_type": "markdown",
   "id": "6cfbfd17-d7c7-43f0-9c4f-bf1f9d03511d",
   "metadata": {},
   "source": [
    "## **Model 2 - SVR**"
   ]
  },
  {
   "cell_type": "code",
   "execution_count": 157,
   "id": "60cbe520-5607-4725-b4f7-e5ceffe08b8f",
   "metadata": {},
   "outputs": [],
   "source": [
    "from sklearn.svm import SVR\n",
    "hp = [10,100,500,1000,2000,3000]\n",
    "ker = ['linear','rbf','poly','sigmoid']\n",
    "svr_r2score=[]\n",
    "for x in ker:\n",
    "    for y in hp:\n",
    "        svr_model = SVR(kernel=x,C=y)\n",
    "        svr_model.fit(X_train, y_train)\n",
    "        y_pred = svr_model.predict(X_test)\n",
    "        r2 = r2_score(y_test,y_pred)\n",
    "        svr_r2score.append((x,y,r2))"
   ]
  },
  {
   "cell_type": "code",
   "execution_count": 183,
   "id": "c185e806-7cb0-4ee4-befa-114309b377fa",
   "metadata": {},
   "outputs": [
    {
     "name": "stdout",
     "output_type": "stream",
     "text": [
      "Kernel: linear - C: 10 - R² Score 0.4411154085859137\n",
      "Kernel: linear - C: 100 - R² Score 0.6205250918367728\n",
      "Kernel: linear - C: 500 - R² Score 0.7486844603269274\n",
      "Kernel: linear - C: 1000 - R² Score 0.7187303718390283\n",
      "Kernel: linear - C: 2000 - R² Score 0.717185774596472\n",
      "Kernel: linear - C: 3000 - R² Score 0.7161570985448058\n",
      "Kernel: rbf - C: 10 - R² Score -0.044010385361080706\n",
      "Kernel: rbf - C: 100 - R² Score 0.3229298217686596\n",
      "Kernel: rbf - C: 500 - R² Score 0.6597447201916936\n",
      "Kernel: rbf - C: 1000 - R² Score 0.7923789012887561\n",
      "Kernel: rbf - C: 2000 - R² Score 0.8332041538541531\n",
      "Kernel: rbf - C: 3000 - R² Score 0.8422384746495604\n",
      "Kernel: poly - C: 10 - R² Score 0.024580030588300605\n",
      "Kernel: poly - C: 100 - R² Score 0.5897995020893756\n",
      "Kernel: poly - C: 500 - R² Score 0.8038815140652048\n",
      "Kernel: poly - C: 1000 - R² Score 0.8338303273683121\n",
      "Kernel: poly - C: 2000 - R² Score 0.8403113295667679\n",
      "Kernel: poly - C: 3000 - R² Score 0.8390286005966449\n",
      "Kernel: sigmoid - C: 10 - R² Score 0.022978265830825184\n",
      "Kernel: sigmoid - C: 100 - R² Score 0.5099640007962808\n",
      "Kernel: sigmoid - C: 500 - R² Score 0.46829640989809973\n",
      "Kernel: sigmoid - C: 1000 - R² Score 0.3012743569891182\n",
      "Kernel: sigmoid - C: 2000 - R² Score -0.8798843869243349\n",
      "Kernel: sigmoid - C: 3000 - R² Score -2.9047335174024607\n"
     ]
    }
   ],
   "source": [
    "# SVR_R2_Score : Results with all the combinations:\n",
    "for kernel, C, score in svr_r2score:\n",
    "    print(\"Kernel:\",kernel,\"- C:\",C,\"- R² Score\",score)"
   ]
  },
  {
   "cell_type": "markdown",
   "id": "ca09bb2d-6608-48a5-b12b-086b6c1848e9",
   "metadata": {},
   "source": [
    "## **Model 3 - Decision Tree Regressor**"
   ]
  },
  {
   "cell_type": "code",
   "execution_count": 195,
   "id": "397e3f99-3f13-4b39-ad52-9a85f36b2444",
   "metadata": {},
   "outputs": [],
   "source": [
    "from sklearn.tree import DecisionTreeRegressor\n",
    "criterion1 = ['squared_error','friedman_mse','absolute_error','poisson']\n",
    "max_ft1 = ['sqrt','log2']\n",
    "spliter1 = ['best','random']\n",
    "DT_r2 = []\n",
    "\n",
    "for cri in criterion1:\n",
    "    for mx_ft in max_ft1:\n",
    "        for split in spliter1:\n",
    "            DT_model = DecisionTreeRegressor(criterion=cri,max_features=mx_ft,splitter=split)\n",
    "            DT_model.fit(X_train,y_train)\n",
    "            y_pred = DT_model.predict(X_test)\n",
    "            dt_r2 = r2_score(y_test,y_pred)\n",
    "            DT_r2.append((cri,mx_ft,split,dt_r2))\n"
   ]
  },
  {
   "cell_type": "code",
   "execution_count": 199,
   "id": "792dbcfb-5f7a-45a0-a9ae-f276dc8b49cf",
   "metadata": {},
   "outputs": [
    {
     "name": "stdout",
     "output_type": "stream",
     "text": [
      "Criterion: squared_error max_features: sqrt splitter: best R2_Score: 0.6905149345691342\n",
      "Criterion: squared_error max_features: sqrt splitter: random R2_Score: 0.6089158084430758\n",
      "Criterion: squared_error max_features: log2 splitter: best R2_Score: 0.7208084204160041\n",
      "Criterion: squared_error max_features: log2 splitter: random R2_Score: 0.5885137699183175\n",
      "Criterion: friedman_mse max_features: sqrt splitter: best R2_Score: 0.741628247754792\n",
      "Criterion: friedman_mse max_features: sqrt splitter: random R2_Score: 0.632694706926831\n",
      "Criterion: friedman_mse max_features: log2 splitter: best R2_Score: 0.6353895211454534\n",
      "Criterion: friedman_mse max_features: log2 splitter: random R2_Score: 0.6909830368433382\n",
      "Criterion: absolute_error max_features: sqrt splitter: best R2_Score: 0.6465435342030181\n",
      "Criterion: absolute_error max_features: sqrt splitter: random R2_Score: 0.7744421292327105\n",
      "Criterion: absolute_error max_features: log2 splitter: best R2_Score: 0.712613522330376\n",
      "Criterion: absolute_error max_features: log2 splitter: random R2_Score: 0.6719344044572477\n",
      "Criterion: poisson max_features: sqrt splitter: best R2_Score: 0.5326888585822843\n",
      "Criterion: poisson max_features: sqrt splitter: random R2_Score: 0.6616041177188116\n",
      "Criterion: poisson max_features: log2 splitter: best R2_Score: 0.5525323495374564\n",
      "Criterion: poisson max_features: log2 splitter: random R2_Score: 0.6235679214227591\n"
     ]
    }
   ],
   "source": [
    "for criterion,max_features,splitter,score in DT_r2:\n",
    "    print(\"Criterion:\",criterion,\"max_features:\",max_features,\"splitter:\",splitter,\"R2_Score:\",score)"
   ]
  },
  {
   "cell_type": "markdown",
   "id": "9729c6a1-993a-4aec-900f-10c2b7a91ffc",
   "metadata": {},
   "source": [
    "## **Random_Forest_Regressor**"
   ]
  },
  {
   "cell_type": "code",
   "execution_count": 208,
   "id": "82ccbc76-98e5-4870-9eaa-172be9237750",
   "metadata": {},
   "outputs": [],
   "source": [
    "from sklearn.ensemble import RandomForestRegressor\n",
    "\n",
    "n_estimators = [50,100,200,250,300,350,400,500]\n",
    "criterion2 = ['squared_error','friedman_mse','poisson']\n",
    "max_ft2 = ['sqrt','log2']\n",
    "randomforest_r2score= []\n",
    "\n",
    "for estimators in n_estimators:\n",
    "    for crt in criterion2:\n",
    "        for max_frt in max_ft2:\n",
    "            rff = RandomForestRegressor(n_estimators=estimators ,criterion=crt ,max_features=max_frt ,random_state=32)\n",
    "            rff.fit(X_train,y_train)\n",
    "            y_pred = rff.predict(X_test)\n",
    "            rf_r2score = r2_score(y_test,y_pred)\n",
    "            randomforest_r2score.append((estimators,crt,max_frt,rf_r2score))\n"
   ]
  },
  {
   "cell_type": "code",
   "execution_count": 209,
   "id": "1c9a5a8c-0ea7-49ce-95e7-8e4e8748d82b",
   "metadata": {},
   "outputs": [
    {
     "name": "stdout",
     "output_type": "stream",
     "text": [
      "n_estimators: 50 Criterion: squared_error max_features: sqrt R2_Score: 0.8502984279389878\n",
      "n_estimators: 50 Criterion: squared_error max_features: log2 R2_Score: 0.8502984279389878\n",
      "n_estimators: 50 Criterion: friedman_mse max_features: sqrt R2_Score: 0.8509127600875582\n",
      "n_estimators: 50 Criterion: friedman_mse max_features: log2 R2_Score: 0.8509127600875582\n",
      "n_estimators: 50 Criterion: poisson max_features: sqrt R2_Score: 0.8468833336548729\n",
      "n_estimators: 50 Criterion: poisson max_features: log2 R2_Score: 0.8468833336548729\n",
      "n_estimators: 100 Criterion: squared_error max_features: sqrt R2_Score: 0.8492395564499937\n",
      "n_estimators: 100 Criterion: squared_error max_features: log2 R2_Score: 0.8492395564499937\n",
      "n_estimators: 100 Criterion: friedman_mse max_features: sqrt R2_Score: 0.8492782583516395\n",
      "n_estimators: 100 Criterion: friedman_mse max_features: log2 R2_Score: 0.8492782583516395\n",
      "n_estimators: 100 Criterion: poisson max_features: sqrt R2_Score: 0.8474801406941771\n",
      "n_estimators: 100 Criterion: poisson max_features: log2 R2_Score: 0.8474801406941771\n",
      "n_estimators: 200 Criterion: squared_error max_features: sqrt R2_Score: 0.85125883509619\n",
      "n_estimators: 200 Criterion: squared_error max_features: log2 R2_Score: 0.85125883509619\n",
      "n_estimators: 200 Criterion: friedman_mse max_features: sqrt R2_Score: 0.8513141835838371\n",
      "n_estimators: 200 Criterion: friedman_mse max_features: log2 R2_Score: 0.8513141835838371\n",
      "n_estimators: 200 Criterion: poisson max_features: sqrt R2_Score: 0.849928342290375\n",
      "n_estimators: 200 Criterion: poisson max_features: log2 R2_Score: 0.849928342290375\n",
      "n_estimators: 250 Criterion: squared_error max_features: sqrt R2_Score: 0.8509722090294829\n",
      "n_estimators: 250 Criterion: squared_error max_features: log2 R2_Score: 0.8509722090294829\n",
      "n_estimators: 250 Criterion: friedman_mse max_features: sqrt R2_Score: 0.8510874568342656\n",
      "n_estimators: 250 Criterion: friedman_mse max_features: log2 R2_Score: 0.8510874568342656\n",
      "n_estimators: 250 Criterion: poisson max_features: sqrt R2_Score: 0.8500928704645765\n",
      "n_estimators: 250 Criterion: poisson max_features: log2 R2_Score: 0.8500928704645765\n",
      "n_estimators: 300 Criterion: squared_error max_features: sqrt R2_Score: 0.8515867676508716\n",
      "n_estimators: 300 Criterion: squared_error max_features: log2 R2_Score: 0.8515867676508716\n",
      "n_estimators: 300 Criterion: friedman_mse max_features: sqrt R2_Score: 0.8516592052895238\n",
      "n_estimators: 300 Criterion: friedman_mse max_features: log2 R2_Score: 0.8516592052895238\n",
      "n_estimators: 300 Criterion: poisson max_features: sqrt R2_Score: 0.8509948045947353\n",
      "n_estimators: 300 Criterion: poisson max_features: log2 R2_Score: 0.8509948045947353\n",
      "n_estimators: 350 Criterion: squared_error max_features: sqrt R2_Score: 0.8510703568787773\n",
      "n_estimators: 350 Criterion: squared_error max_features: log2 R2_Score: 0.8510703568787773\n",
      "n_estimators: 350 Criterion: friedman_mse max_features: sqrt R2_Score: 0.851144935393941\n",
      "n_estimators: 350 Criterion: friedman_mse max_features: log2 R2_Score: 0.851144935393941\n",
      "n_estimators: 350 Criterion: poisson max_features: sqrt R2_Score: 0.8502215755711253\n",
      "n_estimators: 350 Criterion: poisson max_features: log2 R2_Score: 0.8502215755711253\n",
      "n_estimators: 400 Criterion: squared_error max_features: sqrt R2_Score: 0.8509950319542703\n",
      "n_estimators: 400 Criterion: squared_error max_features: log2 R2_Score: 0.8509950319542703\n",
      "n_estimators: 400 Criterion: friedman_mse max_features: sqrt R2_Score: 0.8512436813151877\n",
      "n_estimators: 400 Criterion: friedman_mse max_features: log2 R2_Score: 0.8512436813151877\n",
      "n_estimators: 400 Criterion: poisson max_features: sqrt R2_Score: 0.8508266616553146\n",
      "n_estimators: 400 Criterion: poisson max_features: log2 R2_Score: 0.8508266616553146\n",
      "n_estimators: 500 Criterion: squared_error max_features: sqrt R2_Score: 0.8515876208578533\n",
      "n_estimators: 500 Criterion: squared_error max_features: log2 R2_Score: 0.8515876208578533\n",
      "n_estimators: 500 Criterion: friedman_mse max_features: sqrt R2_Score: 0.8515351540982423\n",
      "n_estimators: 500 Criterion: friedman_mse max_features: log2 R2_Score: 0.8515351540982423\n",
      "n_estimators: 500 Criterion: poisson max_features: sqrt R2_Score: 0.8518107418752442\n",
      "n_estimators: 500 Criterion: poisson max_features: log2 R2_Score: 0.8518107418752442\n"
     ]
    }
   ],
   "source": [
    "for n_estimators,criterion,max_features,score in randomforest_r2score:\n",
    "    print(\"n_estimators:\",n_estimators,\"Criterion:\",criterion,\"max_features:\",max_features,\"R2_Score:\",score)"
   ]
  },
  {
   "cell_type": "code",
   "execution_count": null,
   "id": "8f588284-9e91-4193-bf58-53def5e436a7",
   "metadata": {},
   "outputs": [],
   "source": []
  },
  {
   "cell_type": "markdown",
   "id": "e80c8b59-7332-4bcd-8513-7e9ffa91f2a4",
   "metadata": {},
   "source": [
    "## **Saving the best model for Deployment** "
   ]
  },
  {
   "cell_type": "code",
   "execution_count": 248,
   "id": "00ccea78-818c-4a83-b97e-4e0b172cebd8",
   "metadata": {},
   "outputs": [
    {
     "data": {
      "text/plain": [
       "0.8518107418752442"
      ]
     },
     "execution_count": 248,
     "metadata": {},
     "output_type": "execute_result"
    }
   ],
   "source": [
    "from sklearn.ensemble import RandomForestRegressor\n",
    "rf_Reg = RandomForestRegressor(n_estimators=500 ,criterion='poisson' ,max_features='log2' ,random_state=32)\n",
    "rf_Reg.fit(X_train,y_train)\n",
    "y_predict = rf_Reg.predict(X_test)\n",
    "r2_Score = r2_score(y_test,y_predict)\n",
    "r2_Score"
   ]
  },
  {
   "cell_type": "code",
   "execution_count": 249,
   "id": "64f51d8c-7d84-416c-8868-f6c680f73ff5",
   "metadata": {},
   "outputs": [],
   "source": [
    "import pickle"
   ]
  },
  {
   "cell_type": "code",
   "execution_count": 252,
   "id": "aa47d4ba-3612-41f6-8ce2-40920588d5b3",
   "metadata": {},
   "outputs": [],
   "source": [
    "filename = \"rf_reg_finalized.sav\"\n",
    "pickle.dump(rf_Reg,open(filename,'wb'))"
   ]
  },
  {
   "cell_type": "code",
   "execution_count": null,
   "id": "453f3139-1ab4-48bb-ba9a-cce455e788d5",
   "metadata": {},
   "outputs": [],
   "source": []
  },
  {
   "cell_type": "code",
   "execution_count": null,
   "id": "37e5298d-fc8f-44f1-a46b-d76fafd9de49",
   "metadata": {},
   "outputs": [],
   "source": []
  },
  {
   "cell_type": "code",
   "execution_count": null,
   "id": "b2e43a1a-e891-4f39-a786-6e8398f22c0d",
   "metadata": {},
   "outputs": [],
   "source": []
  },
  {
   "cell_type": "code",
   "execution_count": null,
   "id": "1f5e56d4-91e9-4dde-92c3-3cd101a0ea50",
   "metadata": {},
   "outputs": [],
   "source": []
  },
  {
   "cell_type": "code",
   "execution_count": null,
   "id": "ebbf724d-c0e0-4d62-8b46-6df8fc8d482c",
   "metadata": {},
   "outputs": [],
   "source": []
  },
  {
   "cell_type": "code",
   "execution_count": null,
   "id": "4a0c79b0-73b2-4e6f-870b-778c4c427453",
   "metadata": {},
   "outputs": [],
   "source": []
  },
  {
   "cell_type": "code",
   "execution_count": null,
   "id": "723c6a9b-bfec-4640-ad06-90a87c921d3f",
   "metadata": {},
   "outputs": [],
   "source": []
  },
  {
   "cell_type": "code",
   "execution_count": null,
   "id": "b627f3e7-5c7e-4cb3-ab86-8017fef15157",
   "metadata": {},
   "outputs": [],
   "source": []
  },
  {
   "cell_type": "code",
   "execution_count": null,
   "id": "3305889e-db27-4316-8077-091594bc66cc",
   "metadata": {},
   "outputs": [],
   "source": []
  },
  {
   "cell_type": "code",
   "execution_count": null,
   "id": "85de23d1-48b9-4d6e-8162-480c26928166",
   "metadata": {},
   "outputs": [],
   "source": []
  },
  {
   "cell_type": "code",
   "execution_count": null,
   "id": "247b407a-bfb4-45bf-9d1a-0dfd77f35643",
   "metadata": {},
   "outputs": [],
   "source": []
  },
  {
   "cell_type": "code",
   "execution_count": null,
   "id": "897122d7-58ec-4142-8cea-2d303efc4fb5",
   "metadata": {},
   "outputs": [],
   "source": []
  },
  {
   "cell_type": "code",
   "execution_count": null,
   "id": "d26bf6c0-c016-453d-bb07-679cd98da1a3",
   "metadata": {},
   "outputs": [],
   "source": []
  },
  {
   "cell_type": "code",
   "execution_count": null,
   "id": "aad8e617-4227-4c05-b620-bc63d9c8ef1c",
   "metadata": {},
   "outputs": [],
   "source": []
  },
  {
   "cell_type": "code",
   "execution_count": null,
   "id": "1fcb86fa-dc42-4db3-8693-7bad613f24c1",
   "metadata": {},
   "outputs": [],
   "source": []
  }
 ],
 "metadata": {
  "kernelspec": {
   "display_name": "Python 3 (ipykernel)",
   "language": "python",
   "name": "python3"
  },
  "language_info": {
   "codemirror_mode": {
    "name": "ipython",
    "version": 3
   },
   "file_extension": ".py",
   "mimetype": "text/x-python",
   "name": "python",
   "nbconvert_exporter": "python",
   "pygments_lexer": "ipython3",
   "version": "3.12.4"
  }
 },
 "nbformat": 4,
 "nbformat_minor": 5
}
