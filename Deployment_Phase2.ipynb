{
 "cells": [
  {
   "cell_type": "markdown",
   "id": "bd000642-d691-49fe-9001-bb3d539e3423",
   "metadata": {},
   "source": [
    "## Load the pickle file to predict new charges:"
   ]
  },
  {
   "cell_type": "code",
   "execution_count": 38,
   "id": "f6268f7d-bdf6-4714-b117-66b9a8f3f14b",
   "metadata": {},
   "outputs": [],
   "source": [
    "import pickle\n",
    "import warnings\n",
    "warnings.filterwarnings('ignore')"
   ]
  },
  {
   "cell_type": "code",
   "execution_count": 89,
   "id": "a37d687e-261c-48f0-9b83-a98ab1d808ef",
   "metadata": {},
   "outputs": [],
   "source": [
    "loaded_model = pickle.load(open(\"rf_reg_finalized.sav\",'rb'))\n",
    "result = loaded_model.predict([[19,27.9,3,1,0]])"
   ]
  },
  {
   "cell_type": "code",
   "execution_count": 91,
   "id": "d049dfef-be3c-4584-84a7-a6ac75dc1b6a",
   "metadata": {},
   "outputs": [
    {
     "data": {
      "text/plain": [
       "array([16239.7784921])"
      ]
     },
     "execution_count": 91,
     "metadata": {},
     "output_type": "execute_result"
    }
   ],
   "source": [
    "result"
   ]
  },
  {
   "cell_type": "code",
   "execution_count": null,
   "id": "f4383de9-79f7-43d3-803b-541d682c53bd",
   "metadata": {},
   "outputs": [],
   "source": []
  }
 ],
 "metadata": {
  "kernelspec": {
   "display_name": "Python 3 (ipykernel)",
   "language": "python",
   "name": "python3"
  },
  "language_info": {
   "codemirror_mode": {
    "name": "ipython",
    "version": 3
   },
   "file_extension": ".py",
   "mimetype": "text/x-python",
   "name": "python",
   "nbconvert_exporter": "python",
   "pygments_lexer": "ipython3",
   "version": "3.12.4"
  }
 },
 "nbformat": 4,
 "nbformat_minor": 5
}
